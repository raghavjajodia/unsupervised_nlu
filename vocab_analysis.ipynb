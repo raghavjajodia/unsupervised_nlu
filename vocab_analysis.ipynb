{
 "cells": [
  {
   "cell_type": "code",
   "execution_count": 6,
   "metadata": {},
   "outputs": [],
   "source": [
    "from nltk.corpus import treebank, ptb\n",
    "from collections import Counter\n",
    "import nltk\n",
    "import pickle as pkl\n",
    "import numpy as np\n",
    "import matplotlib.pyplot as plt"
   ]
  },
  {
   "cell_type": "code",
   "execution_count": 2,
   "metadata": {},
   "outputs": [],
   "source": [
    "train_pickle_file = '/misc/vlgscratch4/BrunaGroup/rj1408/nlu/ptb_wsj_pos/train.p'\n",
    "val_pickle_file = '/misc/vlgscratch4/BrunaGroup/rj1408/nlu/ptb_wsj_pos/val.p'\n",
    "test_pickle_file = '/misc/vlgscratch4/BrunaGroup/rj1408/nlu/ptb_wsj_pos/test.p'\n",
    "\n",
    "with open(train_pickle_file,\"rb\") as f:\n",
    "    traindict = pkl.load(f)\n",
    "with open(val_pickle_file,\"rb\") as f:\n",
    "    valdict = pkl.load(f)\n",
    "with open(test_pickle_file,\"rb\") as f:\n",
    "    testdict = pkl.load(f)"
   ]
  },
  {
   "cell_type": "code",
   "execution_count": 3,
   "metadata": {},
   "outputs": [],
   "source": [
    "#tag analysis\n",
    "with open('tagset.txt') as f:\n",
    "    alltags = f.read()\n",
    "    alltags = set(alltags.split('\\n'))"
   ]
  },
  {
   "cell_type": "code",
   "execution_count": 4,
   "metadata": {},
   "outputs": [],
   "source": [
    "lis = traindict['tagged_words']\n",
    "tag_cntr = {}\n",
    "for tup in lis:\n",
    "    if tup[1] in alltags:\n",
    "        if tup[1] not in tag_cntr:\n",
    "            tag_cntr[tup[1]] = Counter()\n",
    "        tag_cntr[tup[1]][tup[0]] += 1"
   ]
  },
  {
   "cell_type": "code",
   "execution_count": 5,
   "metadata": {},
   "outputs": [
    {
     "data": {
      "text/plain": [
       "[('NNP', 11127),\n",
       " ('NN', 9149),\n",
       " ('JJ', 7958),\n",
       " ('NNS', 4872),\n",
       " ('CD', 4597),\n",
       " ('VBN', 2089),\n",
       " ('VB', 2056),\n",
       " ('VBG', 1987),\n",
       " ('VBD', 1560),\n",
       " ('RB', 1283),\n",
       " ('VBZ', 1123),\n",
       " ('VBP', 975),\n",
       " ('-NONE-', 604),\n",
       " ('NNPS', 562),\n",
       " ('IN', 187),\n",
       " ('JJR', 151),\n",
       " ('JJS', 103),\n",
       " ('FW', 101),\n",
       " ('RBR', 51),\n",
       " ('DT', 48),\n",
       " ('PRP', 46),\n",
       " ('UH', 39),\n",
       " ('RP', 35),\n",
       " ('CC', 33),\n",
       " ('MD', 27),\n",
       " ('LS', 18),\n",
       " ('PRP$', 15),\n",
       " ('SYM', 15),\n",
       " ('WRB', 14),\n",
       " ('PDT', 13),\n",
       " ('WDT', 12),\n",
       " ('$', 9),\n",
       " ('WP', 8),\n",
       " ('RBS', 8),\n",
       " (',', 5),\n",
       " (':', 5),\n",
       " ('TO', 4),\n",
       " ('.', 3),\n",
       " ('POS', 3),\n",
       " ('``', 3),\n",
       " ('EX', 2),\n",
       " (\"''\", 2),\n",
       " ('-LRB-', 2),\n",
       " ('-RRB-', 2),\n",
       " ('WP$', 1),\n",
       " ('#', 1)]"
      ]
     },
     "execution_count": 5,
     "metadata": {},
     "output_type": "execute_result"
    }
   ],
   "source": [
    "#vocab size for each tag\n",
    "tag_vocabsize = Counter(dict([(tup[0], len(tup[1])) for tup in tag_cntr.items()]))\n",
    "tag_vocabsize.most_common()"
   ]
  },
  {
   "cell_type": "code",
   "execution_count": 11,
   "metadata": {},
   "outputs": [
    {
     "data": {
      "image/png": "[encoded data removed]",
      "text/plain": [
       "<Figure size 720x720 with 1 Axes>"
      ]
     },
     "metadata": {
      "needs_background": "light"
     },
     "output_type": "display_data"
    }
   ],
   "source": [
    "cntr = tag_vocabsize.most_common()\n",
    "objects = [tup[0] for tup in cntr]\n",
    "y_pos = np.arange(len(objects))\n",
    "performance = [tup[1] for tup in cntr]\n",
    "\n",
    "plt.figure(figsize=(10,10))\n",
    "plt.bar(y_pos, performance, align='center', alpha=0.5)\n",
    "plt.xticks(y_pos, objects, rotation=90)\n",
    "plt.ylabel('unnormalized pmf')\n",
    "plt.title('distribution of Tag vocab size')\n",
    "plt.savefig('../plots/tagpdf.png')\n",
    "plt.show()"
   ]
  },
  {
   "cell_type": "code",
   "execution_count": 26,
   "metadata": {},
   "outputs": [
    {
     "data": {
      "text/plain": [
       "1106.695652173913"
      ]
     },
     "execution_count": 26,
     "metadata": {},
     "output_type": "execute_result"
    }
   ],
   "source": [
    "#Average number of tokens in a tag\n",
    "sum([tup[1] for tup in tag_vocabsize.items()])/len(tag_vocabsize.items())"
   ]
  },
  {
   "cell_type": "code",
   "execution_count": 15,
   "metadata": {},
   "outputs": [],
   "source": [
    "tokcntr = {}\n",
    "for tup in traindict['tagged_words']:\n",
    "    if tup[0] not in tokcntr:\n",
    "        tokcntr[tup[0]] = set()\n",
    "    tokcntr[tup[0]].add(tup[1])"
   ]
  },
  {
   "cell_type": "code",
   "execution_count": 29,
   "metadata": {},
   "outputs": [
    {
     "data": {
      "text/plain": [
       "1.161938237509415"
      ]
     },
     "execution_count": 29,
     "metadata": {},
     "output_type": "execute_result"
    }
   ],
   "source": [
    "toksizecntr = Counter(dict([(tup[0], len(tup[1]))for tup in tokcntr.items()]))\n",
    "sum([tup[1] for tup in toksizecntr.items()])/len(toksizecntr.items())"
   ]
  },
  {
   "cell_type": "code",
   "execution_count": 16,
   "metadata": {},
   "outputs": [],
   "source": [
    "fulltags = set([tup[1] for tup in traindict['tagged_words']])\n",
    "punctags = fulltags.difference(alltags)\n",
    "punctoks = [tag_cntr[tag].keys() for tag in punctags]\n",
    "punctoks = set([tok for lis in punctoks for tok in lis])"
   ]
  },
  {
   "cell_type": "code",
   "execution_count": 17,
   "metadata": {},
   "outputs": [],
   "source": [
    "vocab_cntr = Counter([tup[0] for tup in  lis])"
   ]
  },
  {
   "cell_type": "code",
   "execution_count": 20,
   "metadata": {},
   "outputs": [
    {
     "data": {
      "text/plain": [
       "43813"
      ]
     },
     "execution_count": 20,
     "metadata": {},
     "output_type": "execute_result"
    }
   ],
   "source": [
    "len(vocab_cntr)"
   ]
  },
  {
   "cell_type": "code",
   "execution_count": 21,
   "metadata": {},
   "outputs": [
    {
     "data": {
      "text/plain": [
       "0.9921243360632146"
      ]
     },
     "execution_count": 21,
     "metadata": {},
     "output_type": "execute_result"
    }
   ],
   "source": [
    "#sent len analysis\n",
    "sentlens = Counter([len(sent) for sent in traindict['tagged_sents']]).most_common()\n",
    "\n",
    "num = sum([tup[1] for tup in sentlens if tup[0] <= 60])\n",
    "den = len(traindict['tagged_sents'])\n",
    "num/den"
   ]
  },
  {
   "cell_type": "code",
   "execution_count": 23,
   "metadata": {},
   "outputs": [],
   "source": [
    "def getPercentile(voc_cntr, topk):\n",
    "    totalsize = sum([tup[1] for tup in voc_cntr.items()])\n",
    "    topksize = sum([tup[1] for tup in voc_cntr.most_common(topk)])\n",
    "    return topksize/totalsize"
   ]
  },
  {
   "cell_type": "code",
   "execution_count": 26,
   "metadata": {},
   "outputs": [
    {
     "data": {
      "text/plain": [
       "0.9592498465492572"
      ]
     },
     "execution_count": 26,
     "metadata": {},
     "output_type": "execute_result"
    }
   ],
   "source": [
    "getPercentile(vocab_cntr, 15000)"
   ]
  }
 ],
 "metadata": {
  "kernelspec": {
   "display_name": "Python 3",
   "language": "python",
   "name": "python3"
  },
  "language_info": {
   "codemirror_mode": {
    "name": "ipython",
    "version": 3
   },
   "file_extension": ".py",
   "mimetype": "text/x-python",
   "name": "python",
   "nbconvert_exporter": "python",
   "pygments_lexer": "ipython3",
   "version": "3.7.3"
  }
 },
 "nbformat": 4,
 "nbformat_minor": 4
}
